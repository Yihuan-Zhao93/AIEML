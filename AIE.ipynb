{
 "cells": [
  {
   "cell_type": "code",
   "execution_count": 1,
   "metadata": {},
   "outputs": [],
   "source": [
    "from rdkit import Chem\n",
    "import pandas as pd\n",
    "import numpy as np\n",
    "from sklearn.model_selection import KFold, ShuffleSplit, GridSearchCV, cross_val_score, cross_validate\n",
    "import os\n",
    "import glob\n",
    "from scipy.stats import norm\n",
    "import math\n",
    "import random"
   ]
  },
  {
   "cell_type": "code",
   "execution_count": 2,
   "metadata": {
    "tags": []
   },
   "outputs": [
    {
     "name": "stdout",
     "output_type": "stream",
     "text": [
      "[[1]\n",
      " [1]\n",
      " [1]\n",
      " ...\n",
      " [0]\n",
      " [0]\n",
      " [0]]\n",
      "3074\n"
     ]
    }
   ],
   "source": [
    "from sklearn.neural_network import MLPRegressor\n",
    "from sklearn import preprocessing\n",
    "from sklearn.model_selection import train_test_split, cross_val_score\n",
    "import pandas as pd\n",
    "import numpy as np\n",
    "import matplotlib.pylab as plt\n",
    "from sklearn.model_selection import train_test_split, cross_val_score\n",
    "from sklearn.metrics import mean_squared_error \n",
    "#Read the data  读入PLQY数值\n",
    "\n",
    "T_0 = pd.read_excel('AIE727y.xlsx')\n",
    "T=np.array(T_0)\n",
    "\n",
    "\n",
    "\n",
    "print(T)  \n",
    "print(len(T))"
   ]
  },
  {
   "cell_type": "code",
   "execution_count": 3,
   "metadata": {},
   "outputs": [
    {
     "name": "stdout",
     "output_type": "stream",
     "text": [
      "[[ 0  0  0 ...  0  0 42]\n",
      " [ 0  0  1 ...  0  0 10]\n",
      " [ 0  0  1 ...  0  0 10]\n",
      " ...\n",
      " [ 0  0  0 ...  0  0 13]\n",
      " [ 0  0  0 ...  0  0 13]\n",
      " [ 1  0  0 ...  0  0 13]]\n",
      "1638\n",
      "3074\n"
     ]
    }
   ],
   "source": [
    "#读入特征    1000种描述符数据 \n",
    "X=pd.read_excel('AIE727x.xlsx')\n",
    "X=np.array(X) \n",
    "\n",
    "print(X)\n",
    "print(len(X[0]))\n",
    "print(len(X))"
   ]
  },
  {
   "cell_type": "code",
   "execution_count": 4,
   "metadata": {},
   "outputs": [],
   "source": [
    "from sklearn.model_selection import train_test_split\n",
    "X_train,  X_test,  T_train,  T_test  =  train_test_split(X,T,test_size=0.10,random_state=11)"
   ]
  },
  {
   "cell_type": "code",
   "execution_count": 5,
   "metadata": {
    "tags": []
   },
   "outputs": [
    {
     "name": "stderr",
     "output_type": "stream",
     "text": [
      "/home/rdkit/anaconda3/lib/python3.9/site-packages/sklearn/preprocessing/_label.py:98: DataConversionWarning: A column-vector y was passed when a 1d array was expected. Please change the shape of y to (n_samples, ), for example using ravel().\n",
      "  y = column_or_1d(y, warn=True)\n",
      "/home/rdkit/anaconda3/lib/python3.9/site-packages/sklearn/preprocessing/_label.py:133: DataConversionWarning: A column-vector y was passed when a 1d array was expected. Please change the shape of y to (n_samples, ), for example using ravel().\n",
      "  y = column_or_1d(y, warn=True)\n"
     ]
    },
    {
     "name": "stdout",
     "output_type": "stream",
     "text": [
      "[LightGBM] [Warning] bagging_fraction is set=0.1, subsample=1.0 will be ignored. Current value: bagging_fraction=0.1\n",
      "[LightGBM] [Warning] feature_fraction is set=0.7, colsample_bytree=0.6 will be ignored. Current value: feature_fraction=0.7\n"
     ]
    },
    {
     "data": {
      "text/plain": [
       "LGBMClassifier(bagging_fraction=0.1, colsample_bytree=0.6, feature_fraction=0.7,\n",
       "               learning_rate=0.05, min_child_samples=70, n_estimators=800,\n",
       "               num_leaves=10)"
      ]
     },
     "execution_count": 5,
     "metadata": {},
     "output_type": "execute_result"
    }
   ],
   "source": [
    "from sklearn.metrics import accuracy_score,precision_score,f1_score\n",
    "import lightgbm as lgbm\n",
    "\n",
    "clf=lgbm.LGBMClassifier(boosting_type='gbdt',colsample_bytree=0.6,feature_fraction=0.7,bagging_fraction=0.1,num_leaves=10,min_child_samples=70,max_depth=-1,\n",
    "                        learning_rate=0.05,n_estimators=800)\n",
    "clf.fit(X_train,T_train)\n"
   ]
  },
  {
   "cell_type": "code",
   "execution_count": 6,
   "metadata": {},
   "outputs": [
    {
     "data": {
      "text/plain": [
       "array([[161,   4],\n",
       "       [  4, 139]])"
      ]
     },
     "execution_count": 6,
     "metadata": {},
     "output_type": "execute_result"
    }
   ],
   "source": [
    "import pandas as pd\n",
    "import numpy as np\n",
    "import time\n",
    "import logging\n",
    "import os, sys\n",
    "import psutil\n",
    "import lightgbm as lgb\n",
    "from datetime import datetime\n",
    "\n",
    "from itertools import cycle\n",
    "from sklearn import svm\n",
    "from sklearn.metrics import *\n",
    "\n",
    "from sklearn.model_selection import train_test_split\n",
    "from sklearn.preprocessing import label_binarize\n",
    "from sklearn.multiclass import OneVsRestClassifier\n",
    "#from sklearn.externals import joblib\n",
    "from scipy import interp\n",
    "\n",
    "T_pred = clf.predict(X_test)\n",
    "confusion_matrix(T_test, T_pred)"
   ]
  },
  {
   "cell_type": "code",
   "execution_count": 7,
   "metadata": {},
   "outputs": [
    {
     "name": "stdout",
     "output_type": "stream",
     "text": [
      "              precision    recall  f1-score   support\n",
      "\n",
      "           0     0.9758    0.9758    0.9758       165\n",
      "           1     0.9720    0.9720    0.9720       143\n",
      "\n",
      "    accuracy                         0.9740       308\n",
      "   macro avg     0.9739    0.9739    0.9739       308\n",
      "weighted avg     0.9740    0.9740    0.9740       308\n",
      "\n"
     ]
    }
   ],
   "source": [
    "print (classification_report(T_test, T_pred , digits=4))"
   ]
  },
  {
   "cell_type": "code",
   "execution_count": 8,
   "metadata": {},
   "outputs": [
    {
     "name": "stdout",
     "output_type": "stream",
     "text": [
      "the f1 score: 0.974\n"
     ]
    }
   ],
   "source": [
    "f1=f1_score(T_test,T_pred,average='micro')\n",
    "print(\"the f1 score: %.3f\"%f1)"
   ]
  },
  {
   "cell_type": "code",
   "execution_count": 9,
   "metadata": {},
   "outputs": [
    {
     "data": {
      "text/plain": [
       "<Figure size 1000x1000 with 0 Axes>"
      ]
     },
     "metadata": {},
     "output_type": "display_data"
    },
    {
     "data": {
      "image/png": "[encoded data removed]",
      "text/plain": [
       "<Figure size 640x480 with 1 Axes>"
      ]
     },
     "metadata": {},
     "output_type": "display_data"
    }
   ],
   "source": [
    "from lightgbm import plot_importance\n",
    "# 显示重要特征\n",
    "fig = plt.figure(figsize=(10,10))\n",
    "plot_importance(clf,max_num_features=10)\n",
    "plt.show()"
   ]
  },
  {
   "cell_type": "code",
   "execution_count": 10,
   "metadata": {},
   "outputs": [
    {
     "data": {
      "text/plain": [
       "array([[1448,    1],\n",
       "       [   0, 1317]])"
      ]
     },
     "execution_count": 10,
     "metadata": {},
     "output_type": "execute_result"
    }
   ],
   "source": [
    "T_pred = clf.predict(X_train)\n",
    "confusion_matrix(T_train, T_pred)"
   ]
  },
  {
   "cell_type": "code",
   "execution_count": null,
   "metadata": {},
   "outputs": [],
   "source": []
  },
  {
   "cell_type": "code",
   "execution_count": 12,
   "metadata": {
    "tags": []
   },
   "outputs": [
    {
     "name": "stderr",
     "output_type": "stream",
     "text": [
      "/home/rdkit/anaconda3/lib/python3.9/site-packages/sklearn/utils/validation.py:993: DataConversionWarning: A column-vector y was passed when a 1d array was expected. Please change the shape of y to (n_samples, ), for example using ravel().\n",
      "  y = column_or_1d(y, warn=True)\n"
     ]
    },
    {
     "name": "stdout",
     "output_type": "stream",
     "text": [
      "[LibLinear]iter  1 act 2.389e+03 pre 2.039e+03 delta 1.937e-01 f 9.586e+03 |g| 7.711e+04 CG   3\n",
      "cg reaches trust region boundary\n",
      "iter  2 act 1.074e+03 pre 9.729e+02 delta 2.845e-01 f 7.197e+03 |g| 3.131e+04 CG   3\n",
      "cg reaches trust region boundary\n",
      "iter  3 act 7.065e+02 pre 6.264e+02 delta 3.387e-01 f 6.123e+03 |g| 1.098e+04 CG   3\n",
      "cg reaches trust region boundary\n",
      "iter  4 act 8.368e+02 pre 8.438e+02 delta 4.951e-01 f 5.416e+03 |g| 7.894e+03 CG   4\n",
      "cg reaches trust region boundary\n",
      "iter  5 act 6.753e+02 pre 6.215e+02 delta 7.313e-01 f 4.580e+03 |g| 3.664e+03 CG   4\n",
      "cg reaches trust region boundary\n",
      "iter  6 act 6.124e+02 pre 5.795e+02 delta 8.024e-01 f 3.904e+03 |g| 3.115e+03 CG   5\n",
      "cg reaches trust region boundary\n",
      "iter  7 act 6.696e+02 pre 6.023e+02 delta 1.157e+00 f 3.292e+03 |g| 2.662e+03 CG   6\n",
      "cg reaches trust region boundary\n",
      "iter  8 act 5.233e+02 pre 4.589e+02 delta 1.572e+00 f 2.622e+03 |g| 1.801e+03 CG   6\n",
      "cg reaches trust region boundary\n",
      "iter  9 act 4.934e+02 pre 4.545e+02 delta 1.984e+00 f 2.099e+03 |g| 1.487e+03 CG   8\n",
      "cg reaches trust region boundary\n",
      "iter 10 act 4.027e+02 pre 3.487e+02 delta 2.536e+00 f 1.606e+03 |g| 9.667e+02 CG  10\n",
      "cg reaches trust region boundary\n",
      "iter 11 act 3.220e+02 pre 2.871e+02 delta 3.341e+00 f 1.203e+03 |g| 5.869e+02 CG  11\n",
      "cg reaches trust region boundary\n",
      "iter 12 act 2.439e+02 pre 2.057e+02 delta 4.361e+00 f 8.808e+02 |g| 3.669e+02 CG  13\n",
      "cg reaches trust region boundary\n",
      "iter 13 act 1.599e+02 pre 1.358e+02 delta 5.359e+00 f 6.369e+02 |g| 2.044e+02 CG  18\n",
      "iter 14 act 6.306e+01 pre 5.661e+01 delta 5.359e+00 f 4.770e+02 |g| 2.163e+02 CG  25\n",
      "iter 15 act 7.960e+00 pre 7.388e+00 delta 5.359e+00 f 4.139e+02 |g| 6.951e+01 CG  26\n",
      "iter 16 act 9.485e-01 pre 9.451e-01 delta 5.359e+00 f 4.060e+02 |g| 1.185e+01 CG  37\n"
     ]
    },
    {
     "data": {
      "text/plain": [
       "LogisticRegression(C=5, max_iter=600, multi_class='ovr', solver='liblinear',\n",
       "                   verbose=10)"
      ]
     },
     "execution_count": 12,
     "metadata": {},
     "output_type": "execute_result"
    }
   ],
   "source": [
    "from sklearn.linear_model import LogisticRegression\n",
    "clf = LogisticRegression(solver='liblinear',multi_class='ovr', C = 5, verbose = 10, max_iter=600)\n",
    "clf.fit(X_train, T_train)"
   ]
  },
  {
   "cell_type": "code",
   "execution_count": 809,
   "metadata": {},
   "outputs": [
    {
     "name": "stderr",
     "output_type": "stream",
     "text": [
      "/PUBLIC/zyh/anaconda3/lib/python3.7/site-packages/sklearn/neural_network/multilayer_perceptron.py:916: DataConversionWarning: A column-vector y was passed when a 1d array was expected. Please change the shape of y to (n_samples, ), for example using ravel().\n",
      "  y = column_or_1d(y, warn=True)\n"
     ]
    },
    {
     "data": {
      "text/plain": [
       "MLPClassifier(activation='relu', alpha=1, batch_size='auto', beta_1=0.9,\n",
       "       beta_2=0.999, early_stopping=False, epsilon=1e-08,\n",
       "       hidden_layer_sizes=(100,), learning_rate='adaptive',\n",
       "       learning_rate_init=0.1, max_iter=800, momentum=0.9,\n",
       "       n_iter_no_change=10, nesterovs_momentum=True, power_t=0.5,\n",
       "       random_state=None, shuffle=True, solver='adam', tol=0.0001,\n",
       "       validation_fraction=0.1, verbose=False, warm_start=False)"
      ]
     },
     "execution_count": 809,
     "metadata": {},
     "output_type": "execute_result"
    }
   ],
   "source": [
    "import sklearn.neural_network as sk_nn\n",
    "clf = sk_nn.MLPClassifier(activation='relu',solver='adam',alpha=1,learning_rate='adaptive',learning_rate_init=0.1,max_iter=800)\n",
    "clf.fit(X_train,T_train)\n"
   ]
  },
  {
   "cell_type": "code",
   "execution_count": 814,
   "metadata": {},
   "outputs": [
    {
     "data": {
      "text/plain": [
       "array([[1449,    0],\n",
       "       [  92, 1225]])"
      ]
     },
     "execution_count": 814,
     "metadata": {},
     "output_type": "execute_result"
    }
   ],
   "source": [
    "T_pred = clf.predict(X_train)\n",
    "confusion_matrix(T_train, T_pred)"
   ]
  },
  {
   "cell_type": "code",
   "execution_count": 815,
   "metadata": {},
   "outputs": [
    {
     "data": {
      "text/plain": [
       "array([[162,   3],\n",
       "       [ 18, 125]])"
      ]
     },
     "execution_count": 815,
     "metadata": {},
     "output_type": "execute_result"
    }
   ],
   "source": [
    "T_pred = clf.predict(X_test)\n",
    "confusion_matrix(T_test, T_pred)"
   ]
  },
  {
   "cell_type": "code",
   "execution_count": 816,
   "metadata": {},
   "outputs": [
    {
     "name": "stdout",
     "output_type": "stream",
     "text": [
      "              precision    recall  f1-score   support\n",
      "\n",
      "           0     0.9000    0.9818    0.9391       165\n",
      "           1     0.9766    0.8741    0.9225       143\n",
      "\n",
      "   micro avg     0.9318    0.9318    0.9318       308\n",
      "   macro avg     0.9383    0.9280    0.9308       308\n",
      "weighted avg     0.9355    0.9318    0.9314       308\n",
      "\n"
     ]
    }
   ],
   "source": [
    "print (classification_report(T_test, T_pred , digits=4))"
   ]
  },
  {
   "cell_type": "code",
   "execution_count": null,
   "metadata": {},
   "outputs": [],
   "source": []
  },
  {
   "cell_type": "code",
   "execution_count": 13,
   "metadata": {},
   "outputs": [
    {
     "name": "stderr",
     "output_type": "stream",
     "text": [
      "/home/rdkit/anaconda3/lib/python3.9/site-packages/sklearn/neighbors/_classification.py:198: DataConversionWarning: A column-vector y was passed when a 1d array was expected. Please change the shape of y to (n_samples,), for example using ravel().\n",
      "  return self._fit(X, y)\n"
     ]
    },
    {
     "data": {
      "text/plain": [
       "KNeighborsClassifier(n_neighbors=2)"
      ]
     },
     "execution_count": 13,
     "metadata": {},
     "output_type": "execute_result"
    }
   ],
   "source": [
    "import sklearn.neighbors as sk_neighbors\n",
    "clf = sk_neighbors.KNeighborsClassifier(n_neighbors=2) \n",
    "clf.fit(X_train,T_train)"
   ]
  },
  {
   "cell_type": "code",
   "execution_count": 21,
   "metadata": {},
   "outputs": [
    {
     "name": "stderr",
     "output_type": "stream",
     "text": [
      "/tmp/ipykernel_34321/799606017.py:9: DataConversionWarning: A column-vector y was passed when a 1d array was expected. Please change the shape of y to (n_samples,), for example using ravel().\n",
      "  clf.fit(X_train,T_train) # 使用训练集训练模型\n"
     ]
    }
   ],
   "source": [
    "from sklearn.ensemble import RandomForestClassifier\n",
    "clf = RandomForestClassifier (\n",
    "bootstrap=True, max_depth=None,\n",
    "max_features='auto', max_leaf_nodes=None,\n",
    "min_impurity_decrease=0.0,\n",
    "min_samples_leaf=1, min_samples_split=12,\n",
    "min_weight_fraction_leaf=0.0, n_estimators=300, n_jobs=2,\n",
    "oob_score=False, random_state=725, verbose=0, warm_start=False)\n",
    "clf.fit(X_train,T_train) # 使用训练集训练模型\n",
    "T_pre = clf.predict(X_test) # 使用模型对测试集进行预测"
   ]
  },
  {
   "cell_type": "code",
   "execution_count": null,
   "metadata": {},
   "outputs": [],
   "source": []
  },
  {
   "cell_type": "code",
   "execution_count": null,
   "metadata": {},
   "outputs": [],
   "source": []
  },
  {
   "cell_type": "code",
   "execution_count": null,
   "metadata": {},
   "outputs": [],
   "source": []
  },
  {
   "cell_type": "code",
   "execution_count": 7,
   "metadata": {},
   "outputs": [],
   "source": [
    "from sklearn.tree import DecisionTreeClassifier\n",
    " \n",
    "clf = DecisionTreeClassifier(criterion=\"gini\",\n",
    "                         splitter=\"best\",\n",
    "                         max_depth=None,\n",
    "                         min_samples_split=50,\n",
    "                         min_samples_leaf=10,\n",
    "                         min_weight_fraction_leaf=0.,\n",
    "                         max_features=0.6,\n",
    "                         random_state=2,\n",
    "                         max_leaf_nodes=None,\n",
    "                         min_impurity_decrease=0)\n",
    "clf.fit(X_train,T_train) # 使用训练集训练模型\n",
    "T_pre = clf.predict(X_test) # 使用模型对测试集进行预测"
   ]
  },
  {
   "cell_type": "code",
   "execution_count": null,
   "metadata": {},
   "outputs": [],
   "source": []
  },
  {
   "cell_type": "code",
   "execution_count": null,
   "metadata": {},
   "outputs": [],
   "source": []
  },
  {
   "cell_type": "code",
   "execution_count": null,
   "metadata": {},
   "outputs": [],
   "source": []
  },
  {
   "cell_type": "code",
   "execution_count": null,
   "metadata": {},
   "outputs": [],
   "source": []
  },
  {
   "cell_type": "code",
   "execution_count": null,
   "metadata": {},
   "outputs": [],
   "source": []
  },
  {
   "cell_type": "code",
   "execution_count": null,
   "metadata": {},
   "outputs": [],
   "source": []
  },
  {
   "cell_type": "code",
   "execution_count": null,
   "metadata": {},
   "outputs": [],
   "source": []
  }
 ],
 "metadata": {
  "kernelspec": {
   "display_name": "Python 3 (ipykernel)",
   "language": "python",
   "name": "python3"
  },
  "language_info": {
   "codemirror_mode": {
    "name": "ipython",
    "version": 3
   },
   "file_extension": ".py",
   "mimetype": "text/x-python",
   "name": "python",
   "nbconvert_exporter": "python",
   "pygments_lexer": "ipython3",
   "version": "3.9.13"
  }
 },
 "nbformat": 4,
 "nbformat_minor": 4
}
